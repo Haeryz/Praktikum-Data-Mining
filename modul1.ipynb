{
 "cells": [
  {
   "cell_type": "code",
   "execution_count": 24,
   "metadata": {},
   "outputs": [
    {
     "name": "stdout",
     "output_type": "stream",
     "text": [
      "original list =  [0, 0.5, 1, 1.5, 2, 2.5, 3, 3.5, 4, 4.5]\n",
      "Delete even num :  [1, 3]\n",
      "Sort descending :  [3, 1]\n",
      "Remove max num :  [1]\n"
     ]
    }
   ],
   "source": [
    "class Solution:\n",
    "    def generateNum(self, generate=None) -> list:\n",
    "        if generate is None:\n",
    "            generate = []\n",
    "        n = 5\n",
    "        for i in range(n):\n",
    "            generate.append(i)\n",
    "            generate.append(i + 0.5)\n",
    "        return generate\n",
    "    \n",
    "    def deleteEven(self, data: list) -> list:\n",
    "        result = []\n",
    "        for num in data:\n",
    "            if not (isinstance(num, int) and num % 2 == 0 ) and num.is_integer(): # decimal bukan even atau odd (secara math)\n",
    "                result.append(num)\n",
    "        return result\n",
    "\n",
    "if __name__ == \"__main__\":\n",
    "    s = Solution()\n",
    "    mewing = s.generateNum()\n",
    "    print(\"original list = \", mewing)\n",
    "    skibidi = s.deleteEven(mewing)\n",
    "    print(\"Delete even num : \", skibidi)\n",
    "    skibidi.sort(reverse=True)\n",
    "    print(\"Sort descending : \", skibidi)\n",
    "    skibidi.remove(max(skibidi))\n",
    "    print(\"Remove max num : \", skibidi)"
   ]
  }
 ],
 "metadata": {
  "kernelspec": {
   "display_name": "virtual",
   "language": "python",
   "name": "python3"
  },
  "language_info": {
   "codemirror_mode": {
    "name": "ipython",
    "version": 3
   },
   "file_extension": ".py",
   "mimetype": "text/x-python",
   "name": "python",
   "nbconvert_exporter": "python",
   "pygments_lexer": "ipython3",
   "version": "3.13.1"
  }
 },
 "nbformat": 4,
 "nbformat_minor": 2
}
